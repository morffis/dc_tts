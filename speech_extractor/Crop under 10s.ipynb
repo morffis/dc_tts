{
 "cells": [
  {
   "cell_type": "code",
   "execution_count": 7,
   "metadata": {},
   "outputs": [],
   "source": [
    "from pydub import AudioSegment\n",
    "import os\n",
    "import numpy as np\n",
    "import winsound\n",
    "import csv\n",
    "import shutil"
   ]
  },
  {
   "cell_type": "code",
   "execution_count": 2,
   "metadata": {},
   "outputs": [],
   "source": [
    "def save_sample(sample,filepath):    \n",
    "    sample.export(filepath, format=\"wav\")"
   ]
  },
  {
   "cell_type": "code",
   "execution_count": 3,
   "metadata": {},
   "outputs": [],
   "source": [
    "directory = './/cropped'\n",
    "new_directory = './/cropped_under_10s'\n",
    "transcript_path = 'transcript.csv'\n",
    "temp_sample_path = 'temp_sample.wav'"
   ]
  },
  {
   "cell_type": "code",
   "execution_count": 9,
   "metadata": {},
   "outputs": [
    {
     "name": "stdout",
     "output_type": "stream",
     "text": [
      "Copying file Bolsonaro-0001.wav\n",
      "Copying file Bolsonaro-0002.wav\n",
      "Copying file Bolsonaro-0004.wav\n",
      "Copying file Bolsonaro-0006.wav\n",
      "Copying file Bolsonaro-0008.wav\n",
      "Copying file Bolsonaro-0009.wav\n",
      "Copying file Bolsonaro-0010.wav\n",
      "Copying file Bolsonaro-0011.wav\n",
      "Copying file Bolsonaro-0016.wav\n",
      "Copying file Bolsonaro-0017.wav\n",
      "Copying file Bolsonaro-0019.wav\n",
      "Copying file Bolsonaro-0022.wav\n",
      "Copying file Bolsonaro-0023.wav\n",
      "Copying file Bolsonaro-0026.wav\n",
      "Copying file Bolsonaro-0027.wav\n",
      "Copying file Bolsonaro-0032.wav\n",
      "Copying file Bolsonaro-0033.wav\n",
      "Copying file Bolsonaro-0034.wav\n",
      "Copying file Bolsonaro-0037.wav\n",
      "Copying file Bolsonaro-0038.wav\n",
      "Copying file Bolsonaro-0039.wav\n",
      "Copying file Bolsonaro-0042.wav\n",
      "Copying file Bolsonaro-0043.wav\n",
      "Copying file Bolsonaro-0044.wav\n",
      "Copying file Bolsonaro-0045.wav\n",
      "Copying file Bolsonaro-0048.wav\n",
      "Copying file Bolsonaro-0049.wav\n",
      "Copying file Bolsonaro-0050.wav\n",
      "Copying file Bolsonaro-0051.wav\n",
      "Copying file Bolsonaro-0052.wav\n",
      "Copying file Bolsonaro-0055.wav\n",
      "Copying file Bolsonaro-0056.wav\n",
      "Copying file Bolsonaro-0061.wav\n",
      "Copying file Bolsonaro-0062.wav\n",
      "Copying file Bolsonaro-0063.wav\n",
      "Copying file Bolsonaro-0068.wav\n",
      "Copying file Bolsonaro-0069.wav\n",
      "Copying file Bolsonaro-0070.wav\n",
      "Copying file Bolsonaro-0072.wav\n",
      "Copying file Bolsonaro-0076.wav\n",
      "Copying file Bolsonaro-0077.wav\n",
      "Copying file Bolsonaro-0078.wav\n",
      "Copying file Bolsonaro-0081.wav\n",
      "Copying file Bolsonaro-0085.wav\n",
      "Copying file Bolsonaro-0087.wav\n",
      "Copying file Bolsonaro-0088.wav\n",
      "Copying file Bolsonaro-0093.wav\n",
      "Copying file Bolsonaro-0094.wav\n",
      "Copying file Bolsonaro-0097.wav\n",
      "Copying file Bolsonaro-0098.wav\n"
     ]
    }
   ],
   "source": [
    "counter = 0\n",
    "for filename in os.listdir(directory):\n",
    "    file_path = os.path.join(directory,filename)\n",
    "    sample = AudioSegment.from_wav(file_path)\n",
    "    \n",
    "    if sample.duration_seconds < 10:\n",
    "        shutil.copy(file_path,new_directory)\n",
    "        print(f'Copying file {filename}')"
   ]
  }
 ],
 "metadata": {
  "kernelspec": {
   "display_name": "Python 3",
   "language": "python",
   "name": "python3"
  },
  "language_info": {
   "codemirror_mode": {
    "name": "ipython",
    "version": 3
   },
   "file_extension": ".py",
   "mimetype": "text/x-python",
   "name": "python",
   "nbconvert_exporter": "python",
   "pygments_lexer": "ipython3",
   "version": "3.7.4"
  }
 },
 "nbformat": 4,
 "nbformat_minor": 2
}
